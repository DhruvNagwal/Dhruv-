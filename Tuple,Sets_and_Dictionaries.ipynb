{
  "nbformat": 4,
  "nbformat_minor": 0,
  "metadata": {
    "colab": {
      "provenance": [],
      "authorship_tag": "ABX9TyPo0LBcrqVM2N4KzlX0reSL",
      "include_colab_link": true
    },
    "kernelspec": {
      "name": "python3",
      "display_name": "Python 3"
    },
    "language_info": {
      "name": "python"
    }
  },
  "cells": [
    {
      "cell_type": "markdown",
      "metadata": {
        "id": "view-in-github",
        "colab_type": "text"
      },
      "source": [
        "<a href=\"https://colab.research.google.com/github/DhruvNagwal/Dhruv-/blob/main/Tuple%2CSets_and_Dictionaries.ipynb\" target=\"_parent\"><img src=\"https://colab.research.google.com/assets/colab-badge.svg\" alt=\"Open In Colab\"/></a>"
      ]
    },
    {
      "cell_type": "markdown",
      "source": [
        "#TUPLES"
      ],
      "metadata": {
        "id": "x0QcbtyYroFT"
      }
    },
    {
      "cell_type": "code",
      "source": [
        "#Creating a Tuple\n",
        "tup=(2,4,5,'b',34,2.23,'dhruv')\n",
        "\n",
        "print(tup)"
      ],
      "metadata": {
        "colab": {
          "base_uri": "https://localhost:8080/"
        },
        "id": "C2pAqiM1rqPP",
        "outputId": "bc9c7f90-00d0-4186-c00e-8908bab8d684"
      },
      "execution_count": 1,
      "outputs": [
        {
          "output_type": "stream",
          "name": "stdout",
          "text": [
            "(2, 4, 5, 'b', 34, 2.23, 'dhruv')\n"
          ]
        }
      ]
    },
    {
      "cell_type": "code",
      "source": [
        "#printing type of tuple\n",
        "type(tup)"
      ],
      "metadata": {
        "colab": {
          "base_uri": "https://localhost:8080/"
        },
        "id": "bm-8O7OEsCBN",
        "outputId": "a3896595-95e1-412b-b969-078ebfb2578f"
      },
      "execution_count": 2,
      "outputs": [
        {
          "output_type": "execute_result",
          "data": {
            "text/plain": [
              "tuple"
            ]
          },
          "metadata": {},
          "execution_count": 2
        }
      ]
    },
    {
      "cell_type": "code",
      "source": [
        "#Creating a tuple with single element\n",
        "tupl=(2,)\n",
        "print(tupl)\n",
        "type(tupl)"
      ],
      "metadata": {
        "colab": {
          "base_uri": "https://localhost:8080/"
        },
        "id": "60bQv0KZsMnr",
        "outputId": "6b6e1908-697f-4b35-83c2-448e134f8beb"
      },
      "execution_count": 3,
      "outputs": [
        {
          "output_type": "stream",
          "name": "stdout",
          "text": [
            "(2,)\n"
          ]
        },
        {
          "output_type": "execute_result",
          "data": {
            "text/plain": [
              "tuple"
            ]
          },
          "metadata": {},
          "execution_count": 3
        }
      ]
    },
    {
      "cell_type": "code",
      "source": [
        "#printing length of tuple tup\n",
        "len(tup)"
      ],
      "metadata": {
        "colab": {
          "base_uri": "https://localhost:8080/"
        },
        "id": "0vDy001ksYtV",
        "outputId": "1b48d84d-c1d7-495d-b304-ba53cc31a2d4"
      },
      "execution_count": 4,
      "outputs": [
        {
          "output_type": "execute_result",
          "data": {
            "text/plain": [
              "7"
            ]
          },
          "metadata": {},
          "execution_count": 4
        }
      ]
    },
    {
      "cell_type": "markdown",
      "source": [
        "Indexing in Tuple"
      ],
      "metadata": {
        "id": "t2_qu7Dmshnr"
      }
    },
    {
      "cell_type": "code",
      "source": [
        "#Printing First element of tuple tup\n",
        "print(tup[0])"
      ],
      "metadata": {
        "colab": {
          "base_uri": "https://localhost:8080/"
        },
        "id": "IIZG2F_AsgrQ",
        "outputId": "28155554-a8f1-438b-ca3f-4e491c82bb1e"
      },
      "execution_count": 5,
      "outputs": [
        {
          "output_type": "stream",
          "name": "stdout",
          "text": [
            "2\n"
          ]
        }
      ]
    },
    {
      "cell_type": "code",
      "source": [
        "#Printing third element of tuple tup\n",
        "print(tup[2])"
      ],
      "metadata": {
        "colab": {
          "base_uri": "https://localhost:8080/"
        },
        "id": "t1PA2Ah5s6ov",
        "outputId": "21f94d40-e17b-4656-82ea-fdba69fe99db"
      },
      "execution_count": 6,
      "outputs": [
        {
          "output_type": "stream",
          "name": "stdout",
          "text": [
            "5\n"
          ]
        }
      ]
    },
    {
      "cell_type": "code",
      "source": [
        "#Printing Fifth element of tuple tup\n",
        "print(tup[5])"
      ],
      "metadata": {
        "colab": {
          "base_uri": "https://localhost:8080/"
        },
        "id": "NLk3laYds-MB",
        "outputId": "bd4886ff-19d2-4d47-8f50-61cebb874b94"
      },
      "execution_count": 7,
      "outputs": [
        {
          "output_type": "stream",
          "name": "stdout",
          "text": [
            "2.23\n"
          ]
        }
      ]
    },
    {
      "cell_type": "code",
      "source": [
        "#Printing last element of tuple tup\n",
        "print(tup[-1])"
      ],
      "metadata": {
        "colab": {
          "base_uri": "https://localhost:8080/"
        },
        "id": "IG8aZE9XtCDY",
        "outputId": "2cff0ad0-b78a-45bb-f76b-fa7e52217193"
      },
      "execution_count": 8,
      "outputs": [
        {
          "output_type": "stream",
          "name": "stdout",
          "text": [
            "dhruv\n"
          ]
        }
      ]
    },
    {
      "cell_type": "code",
      "source": [
        "#printing elements from 3rd position to 5th position\n",
        "print(tup[3:6])"
      ],
      "metadata": {
        "colab": {
          "base_uri": "https://localhost:8080/"
        },
        "id": "MMxUUcE8tIuu",
        "outputId": "03cc0bed-bb7f-481f-a95d-c17f13e1c348"
      },
      "execution_count": 9,
      "outputs": [
        {
          "output_type": "stream",
          "name": "stdout",
          "text": [
            "('b', 34, 2.23)\n"
          ]
        }
      ]
    },
    {
      "cell_type": "markdown",
      "source": [
        "Tuple Functions"
      ],
      "metadata": {
        "id": "w4OSvdLstYP4"
      }
    },
    {
      "cell_type": "code",
      "source": [
        "#printing count of any number of character in tuple\n",
        "tuple=(2,3,6,2,7,2,89,0,7)\n",
        "print(tuple.count(2))"
      ],
      "metadata": {
        "colab": {
          "base_uri": "https://localhost:8080/"
        },
        "id": "PbQeB9-ktXU9",
        "outputId": "ceb95606-322b-457c-e2c3-000456dc55db"
      },
      "execution_count": 10,
      "outputs": [
        {
          "output_type": "stream",
          "name": "stdout",
          "text": [
            "3\n"
          ]
        }
      ]
    },
    {
      "cell_type": "markdown",
      "source": [
        "#SETS"
      ],
      "metadata": {
        "id": "tHIt6IzRuNLY"
      }
    },
    {
      "cell_type": "code",
      "source": [
        "#initialising an empty set\n",
        "emptyset=set()\n",
        "\n",
        "#printing type of emptyset\n",
        "type(emptyset)"
      ],
      "metadata": {
        "colab": {
          "base_uri": "https://localhost:8080/"
        },
        "id": "XBSePyp5uRkD",
        "outputId": "d62806d3-a8fd-4d58-9ee8-84ac73712be4"
      },
      "execution_count": 12,
      "outputs": [
        {
          "output_type": "execute_result",
          "data": {
            "text/plain": [
              "set"
            ]
          },
          "metadata": {},
          "execution_count": 12
        }
      ]
    },
    {
      "cell_type": "code",
      "source": [
        "#creating a non=empty set\n",
        "set={1,2,'dhruv','dh',34,7,54}\n",
        "\n",
        "#printing non empty set\n",
        "print(set)"
      ],
      "metadata": {
        "colab": {
          "base_uri": "https://localhost:8080/"
        },
        "id": "npY4BDXAvP0l",
        "outputId": "998a5e37-a3d8-4fbf-81eb-3994296da4ab"
      },
      "execution_count": 13,
      "outputs": [
        {
          "output_type": "stream",
          "name": "stdout",
          "text": [
            "{1, 2, 34, 54, 7, 'dhruv', 'dh'}\n"
          ]
        }
      ]
    },
    {
      "cell_type": "code",
      "source": [
        "#printing type of set\n",
        "type(set)"
      ],
      "metadata": {
        "colab": {
          "base_uri": "https://localhost:8080/"
        },
        "id": "mEdsn6i3v4LD",
        "outputId": "8339263a-0e49-45d0-9691-8d63e3fbb5a3"
      },
      "execution_count": 14,
      "outputs": [
        {
          "output_type": "execute_result",
          "data": {
            "text/plain": [
              "set"
            ]
          },
          "metadata": {},
          "execution_count": 14
        }
      ]
    },
    {
      "cell_type": "markdown",
      "source": [
        "Set functions"
      ],
      "metadata": {
        "id": "zUcYK1cuwk46"
      }
    },
    {
      "cell_type": "markdown",
      "source": [
        "1.Add()"
      ],
      "metadata": {
        "id": "71xqSuOfw3EQ"
      }
    },
    {
      "cell_type": "code",
      "source": [
        "#Adding element in set\n",
        "set.add('a')\n",
        "print(set)"
      ],
      "metadata": {
        "colab": {
          "base_uri": "https://localhost:8080/"
        },
        "id": "O1UzB21Av8mx",
        "outputId": "e46df532-69b1-489c-a3bc-c41c8ff357e0"
      },
      "execution_count": 15,
      "outputs": [
        {
          "output_type": "stream",
          "name": "stdout",
          "text": [
            "{1, 2, 7, 'dhruv', 31, 34, 'dh', 54, 'a'}\n"
          ]
        }
      ]
    },
    {
      "cell_type": "markdown",
      "source": [
        "2. Update()"
      ],
      "metadata": {
        "id": "wn_ue_Yaw2KT"
      }
    },
    {
      "cell_type": "code",
      "source": [
        "set.update([23,'December',12])\n",
        "print(set)"
      ],
      "metadata": {
        "colab": {
          "base_uri": "https://localhost:8080/"
        },
        "id": "MPJegQ2ww1Go",
        "outputId": "9f718466-0b7e-46fa-9da7-cee43c3f59cb"
      },
      "execution_count": 16,
      "outputs": [
        {
          "output_type": "stream",
          "name": "stdout",
          "text": [
            "{1, 2, 7, 12, 'December', 23, 'dhruv', 31, 34, 'dh', 54, 'a'}\n"
          ]
        }
      ]
    },
    {
      "cell_type": "markdown",
      "source": [
        "3. Remove()"
      ],
      "metadata": {
        "id": "Tm84tbztxQCd"
      }
    },
    {
      "cell_type": "code",
      "source": [
        "set.remove('December')\n",
        "set.remove(31)\n",
        "print(set)"
      ],
      "metadata": {
        "colab": {
          "base_uri": "https://localhost:8080/"
        },
        "id": "GImEyIsuxVWp",
        "outputId": "f8788e67-1278-4014-9e34-e1e719db6fb8"
      },
      "execution_count": 17,
      "outputs": [
        {
          "output_type": "stream",
          "name": "stdout",
          "text": [
            "{1, 2, 7, 12, 23, 'dhruv', 34, 'dh', 54, 'a'}\n"
          ]
        }
      ]
    },
    {
      "cell_type": "markdown",
      "source": [
        "4. Union()"
      ],
      "metadata": {
        "id": "OBJ-_EL7xfkq"
      }
    },
    {
      "cell_type": "code",
      "source": [
        "A={1,2,3,4}\n",
        "B={5,6,7,8}\n",
        "A.union(B)\n"
      ],
      "metadata": {
        "colab": {
          "base_uri": "https://localhost:8080/"
        },
        "id": "YOuDn8qaxlVn",
        "outputId": "4a6b5812-8df8-486c-efe6-d49f152e7ea3"
      },
      "execution_count": 19,
      "outputs": [
        {
          "output_type": "execute_result",
          "data": {
            "text/plain": [
              "{1, 2, 3, 4, 5, 6, 7, 8}"
            ]
          },
          "metadata": {},
          "execution_count": 19
        }
      ]
    },
    {
      "cell_type": "markdown",
      "source": [
        "5. Intersection"
      ],
      "metadata": {
        "id": "6whzHcSUyz8h"
      }
    },
    {
      "cell_type": "code",
      "source": [
        "A={1,2,3,4}\n",
        "B={3,1,7,8}\n",
        "A.intersection(B)"
      ],
      "metadata": {
        "colab": {
          "base_uri": "https://localhost:8080/"
        },
        "id": "73DPInKfyi9X",
        "outputId": "cf10b25e-772e-4d5e-cb45-5458073a2c8c"
      },
      "execution_count": 20,
      "outputs": [
        {
          "output_type": "execute_result",
          "data": {
            "text/plain": [
              "{1, 3}"
            ]
          },
          "metadata": {},
          "execution_count": 20
        }
      ]
    },
    {
      "cell_type": "markdown",
      "source": [
        "6. Difference"
      ],
      "metadata": {
        "id": "hJM1W106zS62"
      }
    },
    {
      "cell_type": "code",
      "source": [
        "#A-B\n",
        "A.difference(B)"
      ],
      "metadata": {
        "colab": {
          "base_uri": "https://localhost:8080/"
        },
        "id": "PFT4hOAKzVQ4",
        "outputId": "9b7dc45b-ecf1-4476-90da-bd79168c665f"
      },
      "execution_count": 21,
      "outputs": [
        {
          "output_type": "execute_result",
          "data": {
            "text/plain": [
              "{2, 4}"
            ]
          },
          "metadata": {},
          "execution_count": 21
        }
      ]
    },
    {
      "cell_type": "markdown",
      "source": [
        "#DICTIONARY"
      ],
      "metadata": {
        "id": "RufLM2qmzhxQ"
      }
    },
    {
      "cell_type": "code",
      "source": [
        "#Initialising a dictionary\n",
        "dict={'Roll No.':1111,'Name':'Dhruv','Course':'BSc Chemistry'}\n",
        "\n",
        "print(dict)"
      ],
      "metadata": {
        "colab": {
          "base_uri": "https://localhost:8080/"
        },
        "id": "_JFPNcdv0dGt",
        "outputId": "0e6e5129-b08c-47a1-f0b8-3d5fabcfde35"
      },
      "execution_count": 22,
      "outputs": [
        {
          "output_type": "stream",
          "name": "stdout",
          "text": [
            "{'Roll No.': 1111, 'Name': 'Dhruv', 'Course': 'BSc Chemistry'}\n"
          ]
        }
      ]
    },
    {
      "cell_type": "code",
      "source": [
        "#Printing keys\n",
        "dict.keys()"
      ],
      "metadata": {
        "colab": {
          "base_uri": "https://localhost:8080/"
        },
        "id": "TPajSCc34daj",
        "outputId": "cd4b3580-679f-4714-8284-15cef8a9c6d6"
      },
      "execution_count": 23,
      "outputs": [
        {
          "output_type": "execute_result",
          "data": {
            "text/plain": [
              "dict_keys(['Roll No.', 'Name', 'Course'])"
            ]
          },
          "metadata": {},
          "execution_count": 23
        }
      ]
    },
    {
      "cell_type": "code",
      "source": [
        "#Printing Values\n",
        "dict.values()"
      ],
      "metadata": {
        "colab": {
          "base_uri": "https://localhost:8080/"
        },
        "id": "kkJIIyLN4lRy",
        "outputId": "16ea933d-988a-4426-b12c-bca564f42ffd"
      },
      "execution_count": 24,
      "outputs": [
        {
          "output_type": "execute_result",
          "data": {
            "text/plain": [
              "dict_values([1111, 'Dhruv', 'BSc Chemistry'])"
            ]
          },
          "metadata": {},
          "execution_count": 24
        }
      ]
    },
    {
      "cell_type": "code",
      "source": [
        "#Printing keys and their values in list\n",
        "list(dict.items())"
      ],
      "metadata": {
        "colab": {
          "base_uri": "https://localhost:8080/"
        },
        "id": "c7MCvJ8E5oPT",
        "outputId": "5296cc04-8f37-454e-ef70-a7a433ba2451"
      },
      "execution_count": 25,
      "outputs": [
        {
          "output_type": "execute_result",
          "data": {
            "text/plain": [
              "[('Roll No.', 1111), ('Name', 'Dhruv'), ('Course', 'BSc Chemistry')]"
            ]
          },
          "metadata": {},
          "execution_count": 25
        }
      ]
    },
    {
      "cell_type": "code",
      "source": [
        "#print corresponding values according to key\n",
        "dict.get('Name')"
      ],
      "metadata": {
        "colab": {
          "base_uri": "https://localhost:8080/",
          "height": 35
        },
        "id": "491lhNla5_jz",
        "outputId": "21511dcc-fc06-4c59-98c4-6d9ac1b115c4"
      },
      "execution_count": 26,
      "outputs": [
        {
          "output_type": "execute_result",
          "data": {
            "text/plain": [
              "'Dhruv'"
            ],
            "application/vnd.google.colaboratory.intrinsic+json": {
              "type": "string"
            }
          },
          "metadata": {},
          "execution_count": 26
        }
      ]
    },
    {
      "cell_type": "code",
      "source": [
        "#Removing key:value\n",
        "dict.pop('Course')\n",
        "print(dict)"
      ],
      "metadata": {
        "colab": {
          "base_uri": "https://localhost:8080/"
        },
        "id": "d3z_fosV6T5o",
        "outputId": "0ad960a2-eeb0-4e67-90ee-d3a5b9453ff5"
      },
      "execution_count": 28,
      "outputs": [
        {
          "output_type": "stream",
          "name": "stdout",
          "text": [
            "{'Roll No.': 1111, 'Name': 'Dhruv'}\n"
          ]
        }
      ]
    }
  ]
}