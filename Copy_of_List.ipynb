{
  "nbformat": 4,
  "nbformat_minor": 0,
  "metadata": {
    "colab": {
      "provenance": [],
      "authorship_tag": "ABX9TyN1x8PqpYbeZlGDfxGI6bfX",
      "include_colab_link": true
    },
    "kernelspec": {
      "name": "python3",
      "display_name": "Python 3"
    },
    "language_info": {
      "name": "python"
    }
  },
  "cells": [
    {
      "cell_type": "markdown",
      "metadata": {
        "id": "view-in-github",
        "colab_type": "text"
      },
      "source": [
        "<a href=\"https://colab.research.google.com/github/DhruvNagwal/Dhruv-/blob/main/Copy_of_List.ipynb\" target=\"_parent\"><img src=\"https://colab.research.google.com/assets/colab-badge.svg\" alt=\"Open In Colab\"/></a>"
      ]
    },
    {
      "cell_type": "code",
      "execution_count": null,
      "metadata": {
        "colab": {
          "base_uri": "https://localhost:8080/"
        },
        "id": "FJASJVCujXCf",
        "outputId": "85a42572-eb31-4dba-d222-c3b21b7a7d2a"
      },
      "outputs": [
        {
          "output_type": "stream",
          "name": "stdout",
          "text": [
            "[2, 4, 3, 6, 8, 4, 2]\n"
          ]
        }
      ],
      "source": [
        "#Assigning a list\n",
        "list= [2,4,3,6,8,4,2]\n",
        "\n",
        "#Printing a List\n",
        "print(list)"
      ]
    },
    {
      "cell_type": "code",
      "source": [
        "#Type of List\n",
        "type(list)"
      ],
      "metadata": {
        "colab": {
          "base_uri": "https://localhost:8080/"
        },
        "id": "yCNSigz2kADu",
        "outputId": "0ae15e4c-187e-4b7f-a7ee-afdb04e9d251"
      },
      "execution_count": null,
      "outputs": [
        {
          "output_type": "execute_result",
          "data": {
            "text/plain": [
              "list"
            ]
          },
          "metadata": {},
          "execution_count": 2
        }
      ]
    },
    {
      "cell_type": "code",
      "source": [
        "#Creating a list with string or Characters\n",
        "list1= ['Dhruv','D Nagwal','Chemistry','M','D','H']\n",
        "\n",
        "#Printing list1\n",
        "print(list1)"
      ],
      "metadata": {
        "colab": {
          "base_uri": "https://localhost:8080/"
        },
        "id": "83tpIeZbkZWk",
        "outputId": "395b1963-f114-400f-f9ef-b2bc26cbb7ea"
      },
      "execution_count": null,
      "outputs": [
        {
          "output_type": "stream",
          "name": "stdout",
          "text": [
            "['Dhruv', 'D Nagwal', 'Chemistry', 'M', 'D', 'H']\n"
          ]
        }
      ]
    },
    {
      "cell_type": "code",
      "source": [
        "#length of list\n",
        "print(len(list1))\n",
        "print(len(list))"
      ],
      "metadata": {
        "colab": {
          "base_uri": "https://localhost:8080/"
        },
        "id": "g5INxqH2lamm",
        "outputId": "c33783c4-f261-44ed-c258-28c993251369"
      },
      "execution_count": null,
      "outputs": [
        {
          "output_type": "stream",
          "name": "stdout",
          "text": [
            "6\n",
            "7\n"
          ]
        }
      ]
    },
    {
      "cell_type": "markdown",
      "source": [
        "Indexing"
      ],
      "metadata": {
        "id": "Nqv-exgZluX4"
      }
    },
    {
      "cell_type": "code",
      "source": [
        "#Printing element at index 2 in list1 and list\n",
        "print(list1[2])\n",
        "print(list[2])"
      ],
      "metadata": {
        "colab": {
          "base_uri": "https://localhost:8080/"
        },
        "id": "3JRHzpKBloiF",
        "outputId": "9db5d4e7-4e57-4d50-82fc-9438d3a19c81"
      },
      "execution_count": null,
      "outputs": [
        {
          "output_type": "stream",
          "name": "stdout",
          "text": [
            "Chemistry\n",
            "3\n"
          ]
        }
      ]
    },
    {
      "cell_type": "code",
      "source": [
        "#Printing last element in list1 and list\n",
        "print(list1[-1])\n",
        "print(list[-1])"
      ],
      "metadata": {
        "colab": {
          "base_uri": "https://localhost:8080/"
        },
        "id": "tFLDbl_8l-YR",
        "outputId": "c93e05a6-5bea-44b0-c1c3-c9c19a3c4fbf"
      },
      "execution_count": null,
      "outputs": [
        {
          "output_type": "stream",
          "name": "stdout",
          "text": [
            "H\n",
            "2\n"
          ]
        }
      ]
    },
    {
      "cell_type": "code",
      "source": [
        "#printing elements from 1 to 4 index in list\n",
        "print(list[1:4])"
      ],
      "metadata": {
        "colab": {
          "base_uri": "https://localhost:8080/"
        },
        "id": "C-qNkYHll-NP",
        "outputId": "16e0d0ee-969e-4caa-ca08-7b421652fcf5"
      },
      "execution_count": null,
      "outputs": [
        {
          "output_type": "stream",
          "name": "stdout",
          "text": [
            "[4, 3, 6]\n"
          ]
        }
      ]
    },
    {
      "cell_type": "code",
      "source": [
        "#printing elements from 1 to 4 index in list1\n",
        "print(list1[1:4])"
      ],
      "metadata": {
        "colab": {
          "base_uri": "https://localhost:8080/"
        },
        "id": "gwr4xEtNmSWm",
        "outputId": "719371e3-a77e-43a5-9482-bc7b5b44496c"
      },
      "execution_count": null,
      "outputs": [
        {
          "output_type": "stream",
          "name": "stdout",
          "text": [
            "['D Nagwal', 'Chemistry', 'M']\n"
          ]
        }
      ]
    },
    {
      "cell_type": "code",
      "source": [
        "#Concatinating l1 in list1\n",
        "l1=['Mona','Lisa']\n",
        "print(list1+l1)"
      ],
      "metadata": {
        "colab": {
          "base_uri": "https://localhost:8080/"
        },
        "id": "J2unTOXUmcNT",
        "outputId": "e46221fe-fd73-43a3-e03c-7f864e0110ba"
      },
      "execution_count": null,
      "outputs": [
        {
          "output_type": "stream",
          "name": "stdout",
          "text": [
            "['Dhruv', 'D Nagwal', 'Chemistry', 'M', 'D', 'H', 'Mona', 'Lisa']\n"
          ]
        }
      ]
    },
    {
      "cell_type": "code",
      "source": [
        "#reassigning 3rd element of list1 with Mad\n",
        "list1[3]='Mad'\n",
        "print(list1)"
      ],
      "metadata": {
        "colab": {
          "base_uri": "https://localhost:8080/"
        },
        "id": "rxYg64FAmnLe",
        "outputId": "2357092f-70fb-4ac7-d34a-8fd3099430ba"
      },
      "execution_count": null,
      "outputs": [
        {
          "output_type": "stream",
          "name": "stdout",
          "text": [
            "['Dhruv', 'D Nagwal', 'Chemistry', 'Mad', 'D', 'H']\n"
          ]
        }
      ]
    },
    {
      "cell_type": "code",
      "source": [
        "#reassigning 4th element of list with 76\n",
        "list[4]=76\n",
        "print(list)"
      ],
      "metadata": {
        "colab": {
          "base_uri": "https://localhost:8080/"
        },
        "id": "qnD1usI6nIxQ",
        "outputId": "18cf17c7-b659-49f1-a8df-685ad52901f2"
      },
      "execution_count": null,
      "outputs": [
        {
          "output_type": "stream",
          "name": "stdout",
          "text": [
            "[2, 4, 3, 6, 76, 4, 2]\n"
          ]
        }
      ]
    },
    {
      "cell_type": "markdown",
      "source": [
        "List Functions"
      ],
      "metadata": {
        "id": "RiK2cEKznSGs"
      }
    },
    {
      "cell_type": "markdown",
      "source": [
        "1. Len()"
      ],
      "metadata": {
        "id": "VIsR8YGhnTxY"
      }
    },
    {
      "cell_type": "code",
      "source": [
        "#Printing length of list\n",
        "len(list)"
      ],
      "metadata": {
        "colab": {
          "base_uri": "https://localhost:8080/"
        },
        "id": "E4CCOcZInVQv",
        "outputId": "20b6e1b1-4349-44f7-8063-abb40849bb1c"
      },
      "execution_count": null,
      "outputs": [
        {
          "output_type": "execute_result",
          "data": {
            "text/plain": [
              "7"
            ]
          },
          "metadata": {},
          "execution_count": 17
        }
      ]
    },
    {
      "cell_type": "markdown",
      "source": [
        "2. Min()"
      ],
      "metadata": {
        "id": "TgWsRwxtna2o"
      }
    },
    {
      "cell_type": "code",
      "source": [
        "#Printing Minimum number in list\n",
        "min(list)"
      ],
      "metadata": {
        "colab": {
          "base_uri": "https://localhost:8080/"
        },
        "id": "rO9GeBXUndbl",
        "outputId": "a12bdcb1-86d0-4fc8-f626-1b6bb9d2033e"
      },
      "execution_count": null,
      "outputs": [
        {
          "output_type": "execute_result",
          "data": {
            "text/plain": [
              "2"
            ]
          },
          "metadata": {},
          "execution_count": 18
        }
      ]
    },
    {
      "cell_type": "markdown",
      "source": [
        "3. Max()"
      ],
      "metadata": {
        "id": "oztferf7npsX"
      }
    },
    {
      "cell_type": "code",
      "source": [
        "#Printing Maximum number in list\n",
        "max(list)"
      ],
      "metadata": {
        "colab": {
          "base_uri": "https://localhost:8080/"
        },
        "id": "ThcsM-wHnpNS",
        "outputId": "86e5cae0-8d27-4443-f9a3-0657bec0fc14"
      },
      "execution_count": null,
      "outputs": [
        {
          "output_type": "execute_result",
          "data": {
            "text/plain": [
              "76"
            ]
          },
          "metadata": {},
          "execution_count": 19
        }
      ]
    },
    {
      "cell_type": "markdown",
      "source": [
        "4.Sum"
      ],
      "metadata": {
        "id": "xGVYlSjPnvyp"
      }
    },
    {
      "cell_type": "code",
      "source": [
        "#Printing Sum of all Elements in list\n",
        "sum(list)"
      ],
      "metadata": {
        "colab": {
          "base_uri": "https://localhost:8080/"
        },
        "id": "4ENsEswonzjC",
        "outputId": "f1a0fe5a-e3f9-48d0-88d8-893bf3780905"
      },
      "execution_count": null,
      "outputs": [
        {
          "output_type": "execute_result",
          "data": {
            "text/plain": [
              "97"
            ]
          },
          "metadata": {},
          "execution_count": 20
        }
      ]
    },
    {
      "cell_type": "markdown",
      "source": [
        "5. Sorted"
      ],
      "metadata": {
        "id": "bcE82csqn55H"
      }
    },
    {
      "cell_type": "code",
      "source": [
        "#Printing Sorted list in ascending order\n",
        "sorted(list)"
      ],
      "metadata": {
        "colab": {
          "base_uri": "https://localhost:8080/"
        },
        "id": "HjQEHbd7n-dw",
        "outputId": "00cfc3d3-393d-4d36-9c16-1ba165930160"
      },
      "execution_count": null,
      "outputs": [
        {
          "output_type": "execute_result",
          "data": {
            "text/plain": [
              "[2, 2, 3, 4, 4, 6, 76]"
            ]
          },
          "metadata": {},
          "execution_count": 23
        }
      ]
    },
    {
      "cell_type": "code",
      "source": [
        "#Printing sorted list1 in ascending order\n",
        "sorted(list1)"
      ],
      "metadata": {
        "colab": {
          "base_uri": "https://localhost:8080/"
        },
        "id": "vZriNe4joSJU",
        "outputId": "e33be475-c3c5-455c-cbf1-fb3215c854f7"
      },
      "execution_count": null,
      "outputs": [
        {
          "output_type": "execute_result",
          "data": {
            "text/plain": [
              "['Chemistry', 'D', 'D Nagwal', 'Dhruv', 'H', 'Mad']"
            ]
          },
          "metadata": {},
          "execution_count": 24
        }
      ]
    },
    {
      "cell_type": "code",
      "source": [
        "#Printing Sorted list in decending order\n",
        "sorted(list,reverse=True)"
      ],
      "metadata": {
        "colab": {
          "base_uri": "https://localhost:8080/"
        },
        "id": "onj9YGAbof_O",
        "outputId": "2f0b2294-860e-4fa3-cf1e-2e4b97b0b252"
      },
      "execution_count": null,
      "outputs": [
        {
          "output_type": "execute_result",
          "data": {
            "text/plain": [
              "[76, 6, 4, 4, 3, 2, 2]"
            ]
          },
          "metadata": {},
          "execution_count": 25
        }
      ]
    },
    {
      "cell_type": "code",
      "source": [
        "#Printing Sorted list1 in decending order\n",
        "sorted(list1,reverse=True)"
      ],
      "metadata": {
        "colab": {
          "base_uri": "https://localhost:8080/"
        },
        "id": "wT-6McJRom9O",
        "outputId": "c5ebd352-3bfc-4cad-877b-64175a8360cf"
      },
      "execution_count": null,
      "outputs": [
        {
          "output_type": "execute_result",
          "data": {
            "text/plain": [
              "['Mad', 'H', 'Dhruv', 'D Nagwal', 'D', 'Chemistry']"
            ]
          },
          "metadata": {},
          "execution_count": 26
        }
      ]
    },
    {
      "cell_type": "markdown",
      "source": [
        "6. Append"
      ],
      "metadata": {
        "id": "nVmNrbuNoaBB"
      }
    },
    {
      "cell_type": "code",
      "source": [
        "#appending list\n",
        "list.append(88)\n",
        "list.append(100)\n",
        "print(list)"
      ],
      "metadata": {
        "colab": {
          "base_uri": "https://localhost:8080/"
        },
        "id": "Ad3gN85No-Bo",
        "outputId": "5661a5c6-3331-424a-af16-fde3ccbb9bf2"
      },
      "execution_count": null,
      "outputs": [
        {
          "output_type": "stream",
          "name": "stdout",
          "text": [
            "[2, 2, 3, 4, 4, 6, 76, 88, 100]\n"
          ]
        }
      ]
    },
    {
      "cell_type": "code",
      "source": [
        "#appending list1\n",
        "print(list1)\n",
        "list1.append(\"Hello\")\n",
        "list1.append(\"Hii\")\n",
        "print(list1)"
      ],
      "metadata": {
        "colab": {
          "base_uri": "https://localhost:8080/"
        },
        "id": "V5K-bBrhpmWO",
        "outputId": "75f8f9d3-5748-45ba-b6c3-185e6dfa7123"
      },
      "execution_count": null,
      "outputs": [
        {
          "output_type": "stream",
          "name": "stdout",
          "text": [
            "['Dhruv', 'D Nagwal', 'Chemistry', 'Mad', 'D', 'H']\n",
            "['Dhruv', 'D Nagwal', 'Chemistry', 'Mad', 'D', 'H', 'Hello', 'Hii']\n"
          ]
        }
      ]
    },
    {
      "cell_type": "markdown",
      "source": [
        "7. Extend"
      ],
      "metadata": {
        "id": "k5maG_5AqNWx"
      }
    },
    {
      "cell_type": "code",
      "source": [
        "#appending a l2 in list\n",
        "l2=[2,4]\n",
        "list.extend(l2)\n",
        "print(list)"
      ],
      "metadata": {
        "colab": {
          "base_uri": "https://localhost:8080/"
        },
        "id": "r3_rF4KvqPA9",
        "outputId": "f56ce912-e6c3-4f2e-e6d3-440b548a67df"
      },
      "execution_count": null,
      "outputs": [
        {
          "output_type": "stream",
          "name": "stdout",
          "text": [
            "[2, 2, 3, 4, 4, 6, 76, 88, 100, 2, 4]\n"
          ]
        }
      ]
    },
    {
      "cell_type": "markdown",
      "source": [
        "8. Pop()"
      ],
      "metadata": {
        "id": "KIxG-Tpxqrq2"
      }
    },
    {
      "cell_type": "code",
      "source": [
        "#poping last element from list\n",
        "list.pop(-1)\n",
        "print(list)"
      ],
      "metadata": {
        "colab": {
          "base_uri": "https://localhost:8080/"
        },
        "id": "nQu2Y2esqtuQ",
        "outputId": "e39858be-2980-4bdd-ff33-5cd95dc4c751"
      },
      "execution_count": null,
      "outputs": [
        {
          "output_type": "stream",
          "name": "stdout",
          "text": [
            "[2, 2, 3, 4, 4, 6, 76, 88, 100, 2]\n"
          ]
        }
      ]
    },
    {
      "cell_type": "code",
      "source": [
        "#poping 3rd element from list\n",
        "list.pop(3)\n",
        "print(list)"
      ],
      "metadata": {
        "colab": {
          "base_uri": "https://localhost:8080/"
        },
        "id": "_gFI1mGyq8mf",
        "outputId": "25b82f5d-f802-45ed-d8a6-4b6ff8c14be1"
      },
      "execution_count": null,
      "outputs": [
        {
          "output_type": "stream",
          "name": "stdout",
          "text": [
            "[2, 2, 3, 4, 6, 76, 88, 100, 2]\n"
          ]
        }
      ]
    },
    {
      "cell_type": "markdown",
      "source": [
        "9. Remove()"
      ],
      "metadata": {
        "id": "MikEj8jGrGRd"
      }
    },
    {
      "cell_type": "code",
      "source": [
        "#removing element by their values\n",
        "list.remove(88)\n",
        "print(list)"
      ],
      "metadata": {
        "colab": {
          "base_uri": "https://localhost:8080/"
        },
        "id": "4nXNhIcxrIbi",
        "outputId": "93b72c22-21bb-4e82-8ba0-380d4c7acc12"
      },
      "execution_count": null,
      "outputs": [
        {
          "output_type": "stream",
          "name": "stdout",
          "text": [
            "[2, 2, 3, 4, 6, 76, 100, 2]\n"
          ]
        }
      ]
    },
    {
      "cell_type": "markdown",
      "source": [
        "10. Count()"
      ],
      "metadata": {
        "id": "KiT_55LtrRfC"
      }
    },
    {
      "cell_type": "code",
      "source": [
        "#counting number of times an element occur in list\n",
        "list.count(2)"
      ],
      "metadata": {
        "colab": {
          "base_uri": "https://localhost:8080/"
        },
        "id": "JDhK2YD7rWq5",
        "outputId": "7e071eb5-97e6-4f93-d7c2-c94821a8efad"
      },
      "execution_count": null,
      "outputs": [
        {
          "output_type": "execute_result",
          "data": {
            "text/plain": [
              "3"
            ]
          },
          "metadata": {},
          "execution_count": 43
        }
      ]
    },
    {
      "cell_type": "markdown",
      "source": [
        "11. Sort()"
      ],
      "metadata": {
        "id": "lkGg9-RPr5da"
      }
    },
    {
      "cell_type": "code",
      "source": [
        "#printing sorted list\n",
        "list.sort()\n",
        "print(list)"
      ],
      "metadata": {
        "colab": {
          "base_uri": "https://localhost:8080/"
        },
        "id": "FEUaC_iUr7a1",
        "outputId": "d507eecd-7860-44a5-c7bd-9ea50e64df26"
      },
      "execution_count": null,
      "outputs": [
        {
          "output_type": "stream",
          "name": "stdout",
          "text": [
            "[2, 2, 2, 3, 4, 6, 76, 100]\n"
          ]
        }
      ]
    },
    {
      "cell_type": "code",
      "source": [
        "#printing sorted list in descending order\n",
        "list.sort(reverse=True)\n",
        "print(list)"
      ],
      "metadata": {
        "colab": {
          "base_uri": "https://localhost:8080/"
        },
        "id": "GqPV2GNJsDfu",
        "outputId": "9f3762b0-1e92-4957-e228-697d86518926"
      },
      "execution_count": null,
      "outputs": [
        {
          "output_type": "stream",
          "name": "stdout",
          "text": [
            "[100, 76, 6, 4, 3, 2, 2, 2]\n"
          ]
        }
      ]
    },
    {
      "cell_type": "markdown",
      "source": [
        "Nested List"
      ],
      "metadata": {
        "id": "Fwe8BmCUsIY_"
      }
    },
    {
      "cell_type": "code",
      "source": [
        "#initialising a nested list\n",
        "nlist=[1,2,[34,56],8]"
      ],
      "metadata": {
        "id": "h12hIekWsNpD"
      },
      "execution_count": null,
      "outputs": []
    },
    {
      "cell_type": "code",
      "source": [
        "#Printing nested list\n",
        "print(nlist)"
      ],
      "metadata": {
        "colab": {
          "base_uri": "https://localhost:8080/"
        },
        "id": "Z_GM58DAsYUs",
        "outputId": "dd8d9271-7bce-4aa6-cc8a-546950120805"
      },
      "execution_count": null,
      "outputs": [
        {
          "output_type": "stream",
          "name": "stdout",
          "text": [
            "[1, 2, [34, 56], 8]\n"
          ]
        }
      ]
    },
    {
      "cell_type": "code",
      "source": [
        "#printing 2nd element from 3rd element\n",
        "print(nlist[2][1])"
      ],
      "metadata": {
        "colab": {
          "base_uri": "https://localhost:8080/"
        },
        "id": "wHx6RhcqsdpR",
        "outputId": "180cc72f-fd80-4ba2-9bfe-2c9a32d01ad8"
      },
      "execution_count": null,
      "outputs": [
        {
          "output_type": "stream",
          "name": "stdout",
          "text": [
            "56\n"
          ]
        }
      ]
    }
  ]
}