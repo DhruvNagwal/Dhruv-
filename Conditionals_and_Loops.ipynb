{
  "nbformat": 4,
  "nbformat_minor": 0,
  "metadata": {
    "colab": {
      "provenance": [],
      "authorship_tag": "ABX9TyOnNefxrFoKo4FeprS86rkD",
      "include_colab_link": true
    },
    "kernelspec": {
      "name": "python3",
      "display_name": "Python 3"
    },
    "language_info": {
      "name": "python"
    }
  },
  "cells": [
    {
      "cell_type": "markdown",
      "metadata": {
        "id": "view-in-github",
        "colab_type": "text"
      },
      "source": [
        "<a href=\"https://colab.research.google.com/github/DhruvNagwal/Dhruv-/blob/main/Conditionals_and_Loops.ipynb\" target=\"_parent\"><img src=\"https://colab.research.google.com/assets/colab-badge.svg\" alt=\"Open In Colab\"/></a>"
      ]
    },
    {
      "cell_type": "markdown",
      "source": [
        "Conditionals"
      ],
      "metadata": {
        "id": "nEBgWJZgGn1k"
      }
    },
    {
      "cell_type": "code",
      "source": [
        "#Printing if condition only\n",
        "a=3\n",
        "b=8\n",
        "if(b>a):\n",
        "  print('8 is greater than 3')"
      ],
      "metadata": {
        "colab": {
          "base_uri": "https://localhost:8080/"
        },
        "id": "CpamsCYuG1wS",
        "outputId": "4bdf1b50-8074-4ff3-b9c9-6524ac995163"
      },
      "execution_count": 3,
      "outputs": [
        {
          "output_type": "stream",
          "name": "stdout",
          "text": [
            "8 is greater than 3\n"
          ]
        }
      ]
    },
    {
      "cell_type": "code",
      "source": [
        "#Printing if else condition only\n",
        "a=3\n",
        "b=8\n",
        "if(a>b):\n",
        "  print(a,'>',b)\n",
        "else:\n",
        "  print(b,'>',a)"
      ],
      "metadata": {
        "colab": {
          "base_uri": "https://localhost:8080/"
        },
        "id": "x1cqjEHPHWrU",
        "outputId": "7ffa6d00-1dac-45c8-e102-14360346d248"
      },
      "execution_count": 4,
      "outputs": [
        {
          "output_type": "stream",
          "name": "stdout",
          "text": [
            "8 > 3\n"
          ]
        }
      ]
    },
    {
      "cell_type": "code",
      "source": [
        "#Printing if elif else conditions\n",
        "a=3\n",
        "b=12\n",
        "c=5\n",
        "if(a>b):\n",
        "  print('a>b')\n",
        "elif (a>c):\n",
        "  print('a>c')\n",
        "elif(b>c):\n",
        "  print('b>c')\n",
        "else:\n",
        "  print('c>a,b')"
      ],
      "metadata": {
        "colab": {
          "base_uri": "https://localhost:8080/"
        },
        "id": "3fIJ7ocEHrMV",
        "outputId": "eaf28e25-2c33-4d49-8857-72db59999349"
      },
      "execution_count": 6,
      "outputs": [
        {
          "output_type": "stream",
          "name": "stdout",
          "text": [
            "b>c\n"
          ]
        }
      ]
    },
    {
      "cell_type": "code",
      "source": [
        "#Using Nested if\n",
        "a=3\n",
        "b=12\n",
        "c=5\n",
        "if(a>b):\n",
        "  if(a>c):\n",
        "    print('a is greater')\n",
        "  else:\n",
        "    print('c is greater')\n",
        "else:\n",
        "  if(b>c):\n",
        "    print('b is greater')\n",
        "  else:\n",
        "    print('c is greater')"
      ],
      "metadata": {
        "colab": {
          "base_uri": "https://localhost:8080/"
        },
        "id": "ObdnKZrcIl5_",
        "outputId": "ee9c6ca6-94a1-416a-fb16-4d0ccb873c49"
      },
      "execution_count": 7,
      "outputs": [
        {
          "output_type": "stream",
          "name": "stdout",
          "text": [
            "b is greater\n"
          ]
        }
      ]
    },
    {
      "cell_type": "markdown",
      "source": [
        "Loops"
      ],
      "metadata": {
        "id": "Csfc70-LJZSr"
      }
    },
    {
      "cell_type": "markdown",
      "source": [
        "1.For loop"
      ],
      "metadata": {
        "id": "mLQRlJrhJa2e"
      }
    },
    {
      "cell_type": "code",
      "source": [
        "#printing first 10 numbers\n",
        "for i in range(1,11):\n",
        "  print(i)"
      ],
      "metadata": {
        "colab": {
          "base_uri": "https://localhost:8080/"
        },
        "id": "XtNrKZc8JdCe",
        "outputId": "d271bf09-680d-430d-8b02-82c5c2330919"
      },
      "execution_count": 8,
      "outputs": [
        {
          "output_type": "stream",
          "name": "stdout",
          "text": [
            "1\n",
            "2\n",
            "3\n",
            "4\n",
            "5\n",
            "6\n",
            "7\n",
            "8\n",
            "9\n",
            "10\n"
          ]
        }
      ]
    },
    {
      "cell_type": "code",
      "source": [
        "#printing elements in list\n",
        "list=[1,4,3,6,3,6,8,9]\n",
        "for i in list:\n",
        "  print(i)"
      ],
      "metadata": {
        "colab": {
          "base_uri": "https://localhost:8080/"
        },
        "id": "7uVM5NTUJqpb",
        "outputId": "f605608e-f53c-45b4-9cdd-ec256c0f9f0e"
      },
      "execution_count": 9,
      "outputs": [
        {
          "output_type": "stream",
          "name": "stdout",
          "text": [
            "1\n",
            "4\n",
            "3\n",
            "6\n",
            "3\n",
            "6\n",
            "8\n",
            "9\n"
          ]
        }
      ]
    },
    {
      "cell_type": "code",
      "source": [
        "#printing triangle pattern\n",
        "for i in range(1,5):\n",
        "  for j in range(0,i):\n",
        "    print(\"*\",end=\"\")\n",
        "  print(\"\\n\")"
      ],
      "metadata": {
        "colab": {
          "base_uri": "https://localhost:8080/"
        },
        "id": "FJ0__GY9KSIU",
        "outputId": "8ce9226b-87c5-43ef-92aa-87ba0a0a6e20"
      },
      "execution_count": 13,
      "outputs": [
        {
          "output_type": "stream",
          "name": "stdout",
          "text": [
            "*\n",
            "\n",
            "**\n",
            "\n",
            "***\n",
            "\n",
            "****\n",
            "\n"
          ]
        }
      ]
    },
    {
      "cell_type": "markdown",
      "source": [
        "While Loop"
      ],
      "metadata": {
        "id": "9Pm4zuGjL2HR"
      }
    },
    {
      "cell_type": "code",
      "source": [
        "#printing 1 to 10 numbers\n",
        "i=1\n",
        "while(i<11):\n",
        "  print(i)\n",
        "  i+=1"
      ],
      "metadata": {
        "colab": {
          "base_uri": "https://localhost:8080/"
        },
        "id": "Fi1AQX4yLznd",
        "outputId": "aa2fb2e4-cf1b-40fe-b20b-f1b6c2a7393f"
      },
      "execution_count": 14,
      "outputs": [
        {
          "output_type": "stream",
          "name": "stdout",
          "text": [
            "1\n",
            "2\n",
            "3\n",
            "4\n",
            "5\n",
            "6\n",
            "7\n",
            "8\n",
            "9\n",
            "10\n"
          ]
        }
      ]
    },
    {
      "cell_type": "code",
      "source": [
        "i=1\n",
        "while True:\n",
        "  if (i==13):\n",
        "    break\n",
        "  print(i)\n",
        "  i+=1"
      ],
      "metadata": {
        "colab": {
          "base_uri": "https://localhost:8080/"
        },
        "id": "FPOrGQ_XMGm0",
        "outputId": "df2e1ea2-9260-45d0-ad4e-7d9f0bc868f1"
      },
      "execution_count": 17,
      "outputs": [
        {
          "output_type": "stream",
          "name": "stdout",
          "text": [
            "1\n",
            "2\n",
            "3\n",
            "4\n",
            "5\n",
            "6\n",
            "7\n",
            "8\n",
            "9\n",
            "10\n",
            "11\n",
            "12\n"
          ]
        }
      ]
    },
    {
      "cell_type": "code",
      "source": [
        "#Printing elements of list\n",
        "list=[2,3,5,73,3,5,6,8,5]\n",
        "i=0\n",
        "while(i<len(list)):\n",
        "  print(list[i])\n",
        "  i+=1"
      ],
      "metadata": {
        "colab": {
          "base_uri": "https://localhost:8080/"
        },
        "id": "cVoAKKvUNeAP",
        "outputId": "a245995a-aed5-4560-ba1b-cffd8e782184"
      },
      "execution_count": 25,
      "outputs": [
        {
          "output_type": "stream",
          "name": "stdout",
          "text": [
            "2\n",
            "3\n",
            "5\n",
            "73\n",
            "3\n",
            "5\n",
            "6\n",
            "8\n",
            "5\n"
          ]
        }
      ]
    }
  ]
}