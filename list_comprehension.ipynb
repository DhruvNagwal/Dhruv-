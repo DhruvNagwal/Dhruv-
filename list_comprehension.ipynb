{
  "nbformat": 4,
  "nbformat_minor": 0,
  "metadata": {
    "colab": {
      "provenance": [],
      "authorship_tag": "ABX9TyOn3910Jn2EZ13Wi6v4mbUc",
      "include_colab_link": true
    },
    "kernelspec": {
      "name": "python3",
      "display_name": "Python 3"
    },
    "language_info": {
      "name": "python"
    }
  },
  "cells": [
    {
      "cell_type": "markdown",
      "metadata": {
        "id": "view-in-github",
        "colab_type": "text"
      },
      "source": [
        "<a href=\"https://colab.research.google.com/github/DhruvNagwal/Dhruv-/blob/main/list_comprehension.ipynb\" target=\"_parent\"><img src=\"https://colab.research.google.com/assets/colab-badge.svg\" alt=\"Open In Colab\"/></a>"
      ]
    },
    {
      "cell_type": "code",
      "execution_count": null,
      "metadata": {
        "id": "9jJucGgmuaJQ"
      },
      "outputs": [],
      "source": [
        "#List of numbers\n",
        "ln=[1,2,4,6,3,7,5]\n"
      ]
    },
    {
      "cell_type": "code",
      "source": [
        "#printing a list(sqlist) in which square of each number in ln will be saved using for loop\n",
        "ln=[1,2,4,6,3,7,5]\n",
        "sqlist=[]\n",
        "for num in ln:\n",
        "  sqlist.append(num**2)\n",
        "\n",
        "print(sqlist)"
      ],
      "metadata": {
        "colab": {
          "base_uri": "https://localhost:8080/"
        },
        "id": "BWzLux3MuvmT",
        "outputId": "33c84181-338e-4462-d667-4bb8b276dd2e"
      },
      "execution_count": 3,
      "outputs": [
        {
          "output_type": "stream",
          "name": "stdout",
          "text": [
            "[1, 4, 16, 36, 9, 49, 25]\n"
          ]
        }
      ]
    },
    {
      "cell_type": "code",
      "source": [
        "#printing a list(sqlist) in which square of each number in ln will be saved using comprehension\n",
        "ln=[1,2,4,6,3,7,5]\n",
        "sqlist=[]\n",
        "sqlist=[num**2 for num in ln]\n",
        "print(sqlist)"
      ],
      "metadata": {
        "colab": {
          "base_uri": "https://localhost:8080/"
        },
        "id": "cO9pJECDvbQa",
        "outputId": "bf60ff24-6c11-4f92-a9de-adf1ed70d2ed"
      },
      "execution_count": 4,
      "outputs": [
        {
          "output_type": "stream",
          "name": "stdout",
          "text": [
            "[1, 4, 16, 36, 9, 49, 25]\n"
          ]
        }
      ]
    },
    {
      "cell_type": "code",
      "source": [
        "#printing a list(sqlist) in which square of each even number in ln will be saved using comprehension\n",
        "ln=[1,2,4,6,3,7,5]\n",
        "sqlist=[]\n",
        "sqlist=[num**2 for num in ln if num%2==0]\n",
        "print(sqlist)"
      ],
      "metadata": {
        "colab": {
          "base_uri": "https://localhost:8080/"
        },
        "id": "-LFrGGsZv4Ug",
        "outputId": "cf990958-e2d8-4a6c-9fe8-db688fbe0418"
      },
      "execution_count": 5,
      "outputs": [
        {
          "output_type": "stream",
          "name": "stdout",
          "text": [
            "[4, 16, 36]\n"
          ]
        }
      ]
    },
    {
      "cell_type": "code",
      "source": [
        "#printing a list(sqlist) in which square of each odd number in ln will be saved using comprehension\n",
        "ln=[1,2,4,6,3,7,5]\n",
        "sqlist=[]\n",
        "sqlist=[num**2 for num in ln if num%2!=0]\n",
        "print(sqlist)"
      ],
      "metadata": {
        "colab": {
          "base_uri": "https://localhost:8080/"
        },
        "id": "fg2rnIpywDyL",
        "outputId": "00052182-30ff-4054-c15f-04f4f4e24cd2"
      },
      "execution_count": 6,
      "outputs": [
        {
          "output_type": "stream",
          "name": "stdout",
          "text": [
            "[1, 9, 49, 25]\n"
          ]
        }
      ]
    },
    {
      "cell_type": "code",
      "source": [
        "#writing a nested loop\n",
        "number=[]\n",
        "for num in range(4):\n",
        "  for num1 in range(3):\n",
        "    print(num,num1)\n",
        "    number.append(num1)\n",
        "print(number)"
      ],
      "metadata": {
        "colab": {
          "base_uri": "https://localhost:8080/"
        },
        "id": "JZOeKu4Qw4my",
        "outputId": "5772c855-d82f-4802-c2dd-b8a938fe1ad1"
      },
      "execution_count": 7,
      "outputs": [
        {
          "output_type": "stream",
          "name": "stdout",
          "text": [
            "0 0\n",
            "0 1\n",
            "0 2\n",
            "1 0\n",
            "1 1\n",
            "1 2\n",
            "2 0\n",
            "2 1\n",
            "2 2\n",
            "3 0\n",
            "3 1\n",
            "3 2\n",
            "[0, 1, 2, 0, 1, 2, 0, 1, 2, 0, 1, 2]\n"
          ]
        }
      ]
    },
    {
      "cell_type": "code",
      "source": [
        "#Now writing same code using comprehension\n",
        "number=[num for num1 in range(4) for num in range(3)]\n",
        "print(number)\n"
      ],
      "metadata": {
        "colab": {
          "base_uri": "https://localhost:8080/"
        },
        "id": "v-No2yMuxTO3",
        "outputId": "ae4dbcaf-32ac-4ad9-ea46-9fe61c51ed9e"
      },
      "execution_count": 9,
      "outputs": [
        {
          "output_type": "stream",
          "name": "stdout",
          "text": [
            "[0, 1, 2, 0, 1, 2, 0, 1, 2, 0, 1, 2]\n"
          ]
        }
      ]
    },
    {
      "cell_type": "code",
      "source": [
        "hisenberg_quote='''It ceases to exist without me.No, you clearly don't know who you're\n",
        "talking to, so let me clue you in.I am not in danger'''\n",
        "words=hisenberg_quote.split(' ')\n",
        "print(words)"
      ],
      "metadata": {
        "colab": {
          "base_uri": "https://localhost:8080/"
        },
        "id": "lgEEBIcHyrou",
        "outputId": "03459ffa-514d-41ac-e2d2-13cf9c0d7fdd"
      },
      "execution_count": 10,
      "outputs": [
        {
          "output_type": "stream",
          "name": "stdout",
          "text": [
            "['It', 'ceases', 'to', 'exist', 'without', 'me.No,', 'you', 'clearly', \"don't\", 'know', 'who', \"you're\", '\\ntalking', 'to,', 'so', 'let', 'me', 'clue', 'you', 'in.I', 'am', 'not', 'in', 'danger']\n"
          ]
        }
      ]
    },
    {
      "cell_type": "code",
      "source": [
        "#printing all words but removing t from every word\n",
        "words_split=hisenberg_quote.split('t')\n",
        "print(words_split)"
      ],
      "metadata": {
        "colab": {
          "base_uri": "https://localhost:8080/"
        },
        "id": "C7J3yvnb1NOo",
        "outputId": "e7fa16b5-3e73-47a5-c844-7384d47fe7aa"
      },
      "execution_count": 11,
      "outputs": [
        {
          "output_type": "stream",
          "name": "stdout",
          "text": [
            "['I', ' ceases ', 'o exis', ' wi', 'hou', \" me.No, you clearly don'\", \" know who you're \\n\", 'alking ', 'o, so le', ' me clue you in.I am no', ' in danger']\n"
          ]
        }
      ]
    },
    {
      "cell_type": "code",
      "source": [
        "#let store the first letter of every word in u\n",
        "u=[]\n",
        "for w in words:\n",
        "  u.append(w[0])\n",
        "print(u)"
      ],
      "metadata": {
        "colab": {
          "base_uri": "https://localhost:8080/"
        },
        "id": "vOd_wdRx5rY1",
        "outputId": "16f098e5-e59e-41ed-881f-7bddded7772c"
      },
      "execution_count": 13,
      "outputs": [
        {
          "output_type": "stream",
          "name": "stdout",
          "text": [
            "['I', 'c', 't', 'e', 'w', 'm', 'y', 'c', 'd', 'k', 'w', 'y', '\\n', 't', 's', 'l', 'm', 'c', 'y', 'i', 'a', 'n', 'i', 'd']\n"
          ]
        }
      ]
    }
  ]
}