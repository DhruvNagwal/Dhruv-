{
  "nbformat": 4,
  "nbformat_minor": 0,
  "metadata": {
    "colab": {
      "provenance": [],
      "authorship_tag": "ABX9TyPOPlTdHVVb8kyDGl015Txo",
      "include_colab_link": true
    },
    "kernelspec": {
      "name": "python3",
      "display_name": "Python 3"
    },
    "language_info": {
      "name": "python"
    }
  },
  "cells": [
    {
      "cell_type": "markdown",
      "metadata": {
        "id": "view-in-github",
        "colab_type": "text"
      },
      "source": [
        "<a href=\"https://colab.research.google.com/github/DhruvNagwal/Dhruv-/blob/main/String.ipynb\" target=\"_parent\"><img src=\"https://colab.research.google.com/assets/colab-badge.svg\" alt=\"Open In Colab\"/></a>"
      ]
    },
    {
      "cell_type": "code",
      "execution_count": null,
      "metadata": {
        "colab": {
          "base_uri": "https://localhost:8080/",
          "height": 35
        },
        "id": "SbLNZ1aQeYXr",
        "outputId": "f59a8935-58d8-4784-d9e1-eca38efa332c"
      },
      "outputs": [
        {
          "output_type": "execute_result",
          "data": {
            "text/plain": [
              "'Hello, world!'"
            ],
            "application/vnd.google.colaboratory.intrinsic+json": {
              "type": "string"
            }
          },
          "metadata": {},
          "execution_count": 1
        }
      ],
      "source": [
        "\n",
        "\n",
        "#This is my first string\n",
        "my_string = \"Hello, world!\"\n",
        "my_string"
      ]
    },
    {
      "cell_type": "code",
      "source": [
        "# Entire Phrase\n",
        "\n",
        "phrase = \"My name is Dhruv Nagwal\"\n",
        "phrase\n"
      ],
      "metadata": {
        "colab": {
          "base_uri": "https://localhost:8080/",
          "height": 35
        },
        "id": "ur9yUxVPlPq_",
        "outputId": "cb4746ec-5eb5-41fe-be55-e186aedfeafe"
      },
      "execution_count": null,
      "outputs": [
        {
          "output_type": "execute_result",
          "data": {
            "text/plain": [
              "'My name is Dhruv Nagwal'"
            ],
            "application/vnd.google.colaboratory.intrinsic+json": {
              "type": "string"
            }
          },
          "metadata": {},
          "execution_count": 3
        }
      ]
    },
    {
      "cell_type": "code",
      "source": [
        "# statement to get the type of the variable\n",
        "type(phrase)"
      ],
      "metadata": {
        "colab": {
          "base_uri": "https://localhost:8080/"
        },
        "id": "ATFM4u3WlmcQ",
        "outputId": "182b13a0-adb6-4072-8117-152a9f0410f8"
      },
      "execution_count": null,
      "outputs": [
        {
          "output_type": "execute_result",
          "data": {
            "text/plain": [
              "str"
            ]
          },
          "metadata": {},
          "execution_count": 4
        }
      ]
    },
    {
      "cell_type": "code",
      "source": [
        "#we can use single quotes in a double quoted string\n",
        "line1 = \"Using 'Single Quote' inside Double quotes\"  #\n",
        "line1"
      ],
      "metadata": {
        "colab": {
          "base_uri": "https://localhost:8080/",
          "height": 35
        },
        "id": "CzbBDCh2lvF7",
        "outputId": "d705d464-3af9-4141-b85f-65fcdd72364c"
      },
      "execution_count": null,
      "outputs": [
        {
          "output_type": "execute_result",
          "data": {
            "text/plain": [
              "\"Using 'Single Quote' inside Double quotes\""
            ],
            "application/vnd.google.colaboratory.intrinsic+json": {
              "type": "string"
            }
          },
          "metadata": {},
          "execution_count": 5
        }
      ]
    },
    {
      "cell_type": "code",
      "source": [
        "#we can use print statement to print different strings directly\n",
        "print(\"Dhruv Nagwal\")\n",
        "print(\"I'm Studying in Doon University\")\n",
        "print(\"I am an Indian\")"
      ],
      "metadata": {
        "colab": {
          "base_uri": "https://localhost:8080/"
        },
        "id": "kqUO6GW0mM81",
        "outputId": "87727926-ffa3-4e56-d23d-0f4e17ac55db"
      },
      "execution_count": null,
      "outputs": [
        {
          "output_type": "stream",
          "name": "stdout",
          "text": [
            "Dhruv Nagwal\n",
            "I'm Studying in Doon University\n",
            "I am an Indian\n"
          ]
        }
      ]
    },
    {
      "cell_type": "markdown",
      "source": [
        "# Indexing"
      ],
      "metadata": {
        "id": "bZ_nPGDTnOdi"
      }
    },
    {
      "cell_type": "code",
      "source": [
        "#Assign String as a String\n",
        "String = 'Hello Dhruv'\n",
        "\n",
        "\n",
        "# Print the String\n",
        "print(String)"
      ],
      "metadata": {
        "colab": {
          "base_uri": "https://localhost:8080/"
        },
        "id": "0zrasJXSnQLg",
        "outputId": "597658c1-93a3-4d10-db17-ac45651edb72"
      },
      "execution_count": null,
      "outputs": [
        {
          "output_type": "stream",
          "name": "stdout",
          "text": [
            "Hello Dhruv\n"
          ]
        }
      ]
    },
    {
      "cell_type": "markdown",
      "source": [
        "Lets Start Indexing"
      ],
      "metadata": {
        "id": "R9BTYcK8shUa"
      }
    },
    {
      "cell_type": "code",
      "source": [
        "#Print first letter of String\n",
        "print(String[0])"
      ],
      "metadata": {
        "colab": {
          "base_uri": "https://localhost:8080/"
        },
        "id": "DtyZc-avslGf",
        "outputId": "8f9557dd-07c0-47f5-dc3d-9944dfe10fec"
      },
      "execution_count": null,
      "outputs": [
        {
          "output_type": "stream",
          "name": "stdout",
          "text": [
            "H\n"
          ]
        }
      ]
    },
    {
      "cell_type": "code",
      "source": [
        "#Printing the last element\n",
        "print(String[-1])"
      ],
      "metadata": {
        "colab": {
          "base_uri": "https://localhost:8080/"
        },
        "id": "sI_-SwOLsy-J",
        "outputId": "919e5428-11d4-437d-e56e-a8a329a687a9"
      },
      "execution_count": null,
      "outputs": [
        {
          "output_type": "stream",
          "name": "stdout",
          "text": [
            "v\n"
          ]
        }
      ]
    },
    {
      "cell_type": "code",
      "source": [
        "#Printing Length of String\n",
        "print(len(String))"
      ],
      "metadata": {
        "colab": {
          "base_uri": "https://localhost:8080/"
        },
        "id": "1BqbU9VIxOid",
        "outputId": "8f16d5d3-7d77-42d8-f86f-d3f1b1f07ab1"
      },
      "execution_count": null,
      "outputs": [
        {
          "output_type": "stream",
          "name": "stdout",
          "text": [
            "11\n"
          ]
        }
      ]
    },
    {
      "cell_type": "markdown",
      "source": [
        "String Slicing"
      ],
      "metadata": {
        "id": "bVa5qlnsxcfE"
      }
    },
    {
      "cell_type": "code",
      "source": [
        "#Printing Half of the string\n",
        "print(String[:6])"
      ],
      "metadata": {
        "colab": {
          "base_uri": "https://localhost:8080/"
        },
        "id": "nqr2KkIrxS_x",
        "outputId": "255d6795-a5eb-449f-e35c-e7ed87b39021"
      },
      "execution_count": null,
      "outputs": [
        {
          "output_type": "stream",
          "name": "stdout",
          "text": [
            "Hello \n"
          ]
        }
      ]
    },
    {
      "cell_type": "code",
      "source": [
        "#Printing Middle part of the String\n",
        "print(String[2:5])"
      ],
      "metadata": {
        "colab": {
          "base_uri": "https://localhost:8080/"
        },
        "id": "OAfj0s2Yx3bj",
        "outputId": "773d3ab4-6d29-453b-ee0f-e4b8a2953198"
      },
      "execution_count": null,
      "outputs": [
        {
          "output_type": "stream",
          "name": "stdout",
          "text": [
            "llo\n"
          ]
        }
      ]
    },
    {
      "cell_type": "code",
      "source": [
        "#Printing all the elements at odd places\n",
        "print(String[1::2])"
      ],
      "metadata": {
        "colab": {
          "base_uri": "https://localhost:8080/"
        },
        "id": "MbxllBYbyN7o",
        "outputId": "d728e945-180b-45dc-a1c6-d8c42739cf16"
      },
      "execution_count": null,
      "outputs": [
        {
          "output_type": "stream",
          "name": "stdout",
          "text": [
            "el hu\n"
          ]
        }
      ]
    },
    {
      "cell_type": "code",
      "source": [
        "#Printing all the elements at even places\n",
        "print(String[0::2])"
      ],
      "metadata": {
        "colab": {
          "base_uri": "https://localhost:8080/"
        },
        "id": "Pn5xX7nEzGYg",
        "outputId": "c1a6191e-da41-439e-e247-1d3ea382395d"
      },
      "execution_count": null,
      "outputs": [
        {
          "output_type": "stream",
          "name": "stdout",
          "text": [
            "HloDrv\n"
          ]
        }
      ]
    },
    {
      "cell_type": "markdown",
      "source": [
        "Concatinate Strings"
      ],
      "metadata": {
        "id": "dbYahpbkzZPM"
      }
    },
    {
      "cell_type": "code",
      "source": [
        "#Adding World in Hello\n",
        "print('Hello' + ' World!')"
      ],
      "metadata": {
        "colab": {
          "base_uri": "https://localhost:8080/"
        },
        "id": "Z9F3Ek8YzbvH",
        "outputId": "3c4f399f-5e51-4b50-c52a-f597b5aefde8"
      },
      "execution_count": null,
      "outputs": [
        {
          "output_type": "stream",
          "name": "stdout",
          "text": [
            "Hello World!\n"
          ]
        }
      ]
    },
    {
      "cell_type": "code",
      "source": [
        "#Printing Hello # times\n",
        "Hel= 'Hello'\n",
        "print(Hel*3)"
      ],
      "metadata": {
        "colab": {
          "base_uri": "https://localhost:8080/"
        },
        "id": "-LoN8RSTz8Ua",
        "outputId": "b1f2bfb9-94c3-4e19-8f5f-8d4245b3e752"
      },
      "execution_count": null,
      "outputs": [
        {
          "output_type": "stream",
          "name": "stdout",
          "text": [
            "HelloHelloHello\n"
          ]
        }
      ]
    },
    {
      "cell_type": "markdown",
      "source": [
        "#String Functions"
      ],
      "metadata": {
        "id": "ddqbP3Hs1eJ1"
      }
    },
    {
      "cell_type": "markdown",
      "source": [
        "len()"
      ],
      "metadata": {
        "id": "2I93B8DI1hqi"
      }
    },
    {
      "cell_type": "code",
      "source": [
        "string= 'Hii My Name is Dhruv'\n",
        "print(len(string))"
      ],
      "metadata": {
        "colab": {
          "base_uri": "https://localhost:8080/"
        },
        "id": "ZlIoGvPL0VC2",
        "outputId": "81d694ca-13cd-4a70-ce69-6c6f9fa6f53c"
      },
      "execution_count": null,
      "outputs": [
        {
          "output_type": "stream",
          "name": "stdout",
          "text": [
            "20\n"
          ]
        }
      ]
    },
    {
      "cell_type": "markdown",
      "source": [
        "Lower()"
      ],
      "metadata": {
        "id": "-G4RtC6s5HeA"
      }
    },
    {
      "cell_type": "code",
      "source": [
        "lower= string.lower()\n",
        "print(lower)"
      ],
      "metadata": {
        "colab": {
          "base_uri": "https://localhost:8080/"
        },
        "id": "vIlYXOaf5K0Q",
        "outputId": "3506e5d3-ffc2-4c00-cc0e-c62ad9f8d3ac"
      },
      "execution_count": null,
      "outputs": [
        {
          "output_type": "stream",
          "name": "stdout",
          "text": [
            "hii my name is dhruv\n"
          ]
        }
      ]
    },
    {
      "cell_type": "markdown",
      "source": [
        "Upper()"
      ],
      "metadata": {
        "id": "p_hRA-3U5Q4q"
      }
    },
    {
      "cell_type": "code",
      "source": [
        "upper=string.upper()\n",
        "print(upper)"
      ],
      "metadata": {
        "colab": {
          "base_uri": "https://localhost:8080/"
        },
        "id": "PAuP6BNp5O-f",
        "outputId": "882223df-99fc-4566-e6ae-f5156aae52c7"
      },
      "execution_count": null,
      "outputs": [
        {
          "output_type": "stream",
          "name": "stdout",
          "text": [
            "HII MY NAME IS DHRUV\n"
          ]
        }
      ]
    },
    {
      "cell_type": "markdown",
      "source": [
        "Count()"
      ],
      "metadata": {
        "id": "aNILFFdf6222"
      }
    },
    {
      "cell_type": "code",
      "source": [
        "print(string)\n",
        "print(string.count('m'))"
      ],
      "metadata": {
        "colab": {
          "base_uri": "https://localhost:8080/"
        },
        "id": "tjWgaa8j62ki",
        "outputId": "6eeff652-a593-4ba6-decd-ceb6c5380940"
      },
      "execution_count": null,
      "outputs": [
        {
          "output_type": "stream",
          "name": "stdout",
          "text": [
            "Hii My Name is Dhruv\n",
            "1\n"
          ]
        }
      ]
    },
    {
      "cell_type": "code",
      "source": [
        "print(string.count('Name'))"
      ],
      "metadata": {
        "colab": {
          "base_uri": "https://localhost:8080/"
        },
        "id": "wWHfFQsU7eyG",
        "outputId": "ff5c1e63-290d-4279-8fa5-aaab8a24dfde"
      },
      "execution_count": null,
      "outputs": [
        {
          "output_type": "stream",
          "name": "stdout",
          "text": [
            "1\n"
          ]
        }
      ]
    },
    {
      "cell_type": "markdown",
      "source": [
        "Find()"
      ],
      "metadata": {
        "id": "aW6YpvYU7mZh"
      }
    },
    {
      "cell_type": "code",
      "source": [
        "print(string.find('N'))"
      ],
      "metadata": {
        "colab": {
          "base_uri": "https://localhost:8080/"
        },
        "id": "TG1gnxm08Ko_",
        "outputId": "bb2080b5-40f1-4b0a-c5e2-b51534e01c1c"
      },
      "execution_count": null,
      "outputs": [
        {
          "output_type": "stream",
          "name": "stdout",
          "text": [
            "7\n"
          ]
        }
      ]
    },
    {
      "cell_type": "markdown",
      "source": [
        "Replace()"
      ],
      "metadata": {
        "id": "d8Vq9Cye8Jz-"
      }
    },
    {
      "cell_type": "code",
      "source": [
        "string.replace(\"My Name is\",\"I am\")"
      ],
      "metadata": {
        "colab": {
          "base_uri": "https://localhost:8080/",
          "height": 35
        },
        "id": "4pqgSjK88p9I",
        "outputId": "1b0fb67e-0a49-4d29-8ad3-feb5a67197bb"
      },
      "execution_count": null,
      "outputs": [
        {
          "output_type": "execute_result",
          "data": {
            "text/plain": [
              "'Hii I am Dhruv'"
            ],
            "application/vnd.google.colaboratory.intrinsic+json": {
              "type": "string"
            }
          },
          "metadata": {},
          "execution_count": 39
        }
      ]
    }
  ]
}